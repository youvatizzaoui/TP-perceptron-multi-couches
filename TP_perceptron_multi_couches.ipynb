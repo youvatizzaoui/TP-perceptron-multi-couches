{
  "nbformat": 4,
  "nbformat_minor": 0,
  "metadata": {
    "colab": {
      "provenance": []
    },
    "kernelspec": {
      "name": "python3",
      "display_name": "Python 3"
    },
    "language_info": {
      "name": "python"
    }
  },
  "cells": [
    {
      "cell_type": "code",
      "execution_count": null,
      "metadata": {
        "colab": {
          "base_uri": "https://localhost:8080/"
        },
        "id": "XWgFlXJNLw4Q",
        "outputId": "af7e9bbb-4148-4f65-e756-6b564b7b72fd"
      },
      "outputs": [
        {
          "output_type": "stream",
          "name": "stderr",
          "text": [
            "/usr/local/lib/python3.7/dist-packages/sklearn/neural_network/_multilayer_perceptron.py:696: ConvergenceWarning: Stochastic Optimizer: Maximum iterations (200) reached and the optimization hasn't converged yet.\n",
            "  ConvergenceWarning,\n"
          ]
        },
        {
          "output_type": "execute_result",
          "data": {
            "text/plain": [
              "MLPClassifier(hidden_layer_sizes=4, random_state=0)"
            ]
          },
          "metadata": {},
          "execution_count": 1
        }
      ],
      "source": [
        "from sklearn.neural_network import MLPClassifier\n",
        "X = [[0., 0.], [0., 1.]]\n",
        "y = [0, 1]\n",
        "clf = MLPClassifier(hidden_layer_sizes=(4), random_state=0)\n",
        "clf.fit(X, y)"
      ]
    },
    {
      "cell_type": "code",
      "source": [
        "print('la forme du perceptron',[coef.shape for coef in clf.coefs_])"
      ],
      "metadata": {
        "colab": {
          "base_uri": "https://localhost:8080/"
        },
        "id": "_bHGKi5CL7Ln",
        "outputId": "499761f6-e98c-4b17-f8bb-45a1c1bfe630"
      },
      "execution_count": null,
      "outputs": [
        {
          "output_type": "stream",
          "name": "stdout",
          "text": [
            "la forme du perceptron [(2, 4), (4, 1)]\n"
          ]
        }
      ]
    },
    {
      "cell_type": "code",
      "source": [
        " clf.predict([[2., 2.]])"
      ],
      "metadata": {
        "colab": {
          "base_uri": "https://localhost:8080/"
        },
        "id": "rqFEzY-4MSYx",
        "outputId": "be7474de-845c-4c03-f817-308146cd044b"
      },
      "execution_count": null,
      "outputs": [
        {
          "output_type": "execute_result",
          "data": {
            "text/plain": [
              "array([1])"
            ]
          },
          "metadata": {},
          "execution_count": 5
        }
      ]
    },
    {
      "cell_type": "code",
      "source": [
        "clf.predict([[-1., -2.]])"
      ],
      "metadata": {
        "colab": {
          "base_uri": "https://localhost:8080/"
        },
        "id": "7kKM_bZ4MfOu",
        "outputId": "b346fd92-f6d0-4abb-ba0f-ac0b8e809d46"
      },
      "execution_count": null,
      "outputs": [
        {
          "output_type": "execute_result",
          "data": {
            "text/plain": [
              "array([0])"
            ]
          },
          "metadata": {},
          "execution_count": 6
        }
      ]
    },
    {
      "cell_type": "code",
      "source": [
        " print('les coefficients', clf.coefs_)"
      ],
      "metadata": {
        "colab": {
          "base_uri": "https://localhost:8080/"
        },
        "id": "d8niBzhlNC20",
        "outputId": "970a25b8-d482-4048-c305-2dce1bdf4134"
      },
      "execution_count": null,
      "outputs": [
        {
          "output_type": "stream",
          "name": "stdout",
          "text": [
            "les coefficients [array([[ 1.40189095e-03,  2.51687364e-01,  5.41845557e-02,\n",
            "         5.79678815e-04],\n",
            "       [ 6.62768895e-02,  4.86921079e-01, -3.04906881e-01,\n",
            "         6.06259463e-01]]), array([[ 0.33959501],\n",
            "       [ 1.18905791],\n",
            "       [-0.84729469],\n",
            "       [-0.73983565]])]\n"
          ]
        }
      ]
    },
    {
      "cell_type": "code",
      "source": [
        "print('le poid des bais', clf.intercepts_)"
      ],
      "metadata": {
        "colab": {
          "base_uri": "https://localhost:8080/"
        },
        "id": "g1Dq19t3Oao9",
        "outputId": "1c2e4ecd-27a6-453d-957a-49f4effa2c45"
      },
      "execution_count": null,
      "outputs": [
        {
          "output_type": "stream",
          "name": "stdout",
          "text": [
            "le poid des bais [array([ 1.13033621, -0.03798289,  0.41832856, -0.13406003]), array([-0.88093148])]\n"
          ]
        }
      ]
    },
    {
      "cell_type": "code",
      "source": [
        "X = [[0., 0.], [0., 1.], [1, 1],[1, 0]]\n",
        "y = [0, 1, 0, 1]\n",
        "clf = MLPClassifier(solver='lbfgs', alpha=1e-5,hidden_layer_sizes=(4), random_state=0)\n",
        "clf.fit(X, y)"
      ],
      "metadata": {
        "colab": {
          "base_uri": "https://localhost:8080/"
        },
        "id": "LWnNfWzOO8u-",
        "outputId": "00e5e959-07cc-44db-adb8-42425f08c236"
      },
      "execution_count": null,
      "outputs": [
        {
          "output_type": "execute_result",
          "data": {
            "text/plain": [
              "MLPClassifier(alpha=1e-05, hidden_layer_sizes=4, random_state=0, solver='lbfgs')"
            ]
          },
          "metadata": {},
          "execution_count": 2
        }
      ]
    },
    {
      "cell_type": "code",
      "source": [
        "print('x1=0, x2=0, y= ', clf.predict([[0,0]]))\n",
        "print('x1=0, x2=1, y= ',clf.predict([[0,1]]))\n",
        "print('x1=1, x2=0, y= ',clf.predict([[1,0]]))\n",
        "print('x1=1, x2=1, y= ',clf.predict([[1,1]]))"
      ],
      "metadata": {
        "colab": {
          "base_uri": "https://localhost:8080/"
        },
        "id": "QT34yCsKPRbz",
        "outputId": "c57cfb5d-acdf-4c18-81d0-be2c15d27bbc"
      },
      "execution_count": null,
      "outputs": [
        {
          "output_type": "stream",
          "name": "stdout",
          "text": [
            "x1=0, x2=0, y=  [0]\n",
            "x1=0, x2=1, y=  [1]\n",
            "x1=1, x2=0, y=  [1]\n",
            "x1=1, x2=1, y=  [0]\n"
          ]
        }
      ]
    },
    {
      "cell_type": "code",
      "source": [
        "clf.predict([[-1., -2.]])"
      ],
      "metadata": {
        "colab": {
          "base_uri": "https://localhost:8080/"
        },
        "id": "oM2wD1f3PWDr",
        "outputId": "b4851e8a-2597-4c1c-f84a-0d2a0376c5e6"
      },
      "execution_count": null,
      "outputs": [
        {
          "output_type": "execute_result",
          "data": {
            "text/plain": [
              "array([0])"
            ]
          },
          "metadata": {},
          "execution_count": 14
        }
      ]
    },
    {
      "cell_type": "code",
      "source": [
        "print('x1=0, x2=0, y= ', clf.predict([[-1., -2.]]))\n",
        "print('x1=0, x2=1, y= ',clf.predict([[-1., -2.]]))\n",
        "print('x1=1, x2=0, y= ',clf.predict([[-1., -2.]]))\n",
        "print('x1=1, x2=1, y= ',clf.predict([[-1., -2.]]))"
      ],
      "metadata": {
        "id": "cuRXgSmvSp6t"
      },
      "execution_count": null,
      "outputs": []
    },
    {
      "cell_type": "code",
      "source": [
        "from sklearn.neural_network import MLPClassifier\n",
        "X = [[0., 0.], [0., 1.]]\n",
        "y= [[1., 1.], [1., 0.]]\n",
        "xtest = [[2,2],[-1,-2]]\n",
        "clf = MLPClassifier(solver='lbfgs', alpha=1e-5,hidden_layer_sizes=(4), random_state=0)\n",
        "yperd=clf.fit(X, y)\n",
        "print(yperd)\n",
        "print(clf.coefs_)\n",
        "print(clf.intercepts_)\n",
        "print('x1=0, x2=0, y= ', clf.predict([[0,0]]))\n",
        "print('x1=0, x2=1, y= ',clf.predict([[0,1]]))\n",
        "print('x1=1, x2=0, y= ',clf.predict([[1,0]]))\n",
        "print('x1=1, x2=1, y= ',clf.predict([[1,1]]))"
      ],
      "metadata": {
        "colab": {
          "base_uri": "https://localhost:8080/"
        },
        "id": "JXntWnYGRtpm",
        "outputId": "afc59f77-ba2e-42ea-9b8a-5ceaf74989ea"
      },
      "execution_count": null,
      "outputs": [
        {
          "output_type": "stream",
          "name": "stdout",
          "text": [
            "MLPClassifier(alpha=1e-05, hidden_layer_sizes=4, random_state=0, solver='lbfgs')\n",
            "[array([[ 0.0960717 ,  0.4235223 ,  0.20225247,  0.08833628],\n",
            "       [-2.78235813,  3.75355241, -1.46982614,  0.49275522]]), array([[ 2.36623184,  3.32823398],\n",
            "       [ 0.97836634, -2.85399279],\n",
            "       [-0.25846047,  0.55187286],\n",
            "       [ 1.78139876, -2.3996955 ]])]\n",
            "[array([ 3.34019217,  0.16198951, -0.10000173, -0.01171141]), array([ 4.69908029, -0.40475395])]\n",
            "x1=0, x2=0, y=  [[1 1]]\n",
            "x1=0, x2=1, y=  [[1 0]]\n",
            "x1=1, x2=0, y=  [[1 1]]\n",
            "x1=1, x2=1, y=  [[1 0]]\n"
          ]
        }
      ]
    },
    {
      "cell_type": "code",
      "source": [
        "print('x1=0, x2=0, y= ', clf.predict([[0,0]]))\n",
        "print('x1=0, x2=1, y= ',clf.predict([[0,1]]))\n",
        "print('x1=1, x2=0, y= ',clf.predict([[1,0]]))\n",
        "print('x1=1, x2=1, y= ',clf.predict([[1,1]]))"
      ],
      "metadata": {
        "colab": {
          "base_uri": "https://localhost:8080/"
        },
        "id": "0_H6IcIfSCge",
        "outputId": "3a59f496-0ee3-41a0-a528-1ab0363b4ba3"
      },
      "execution_count": null,
      "outputs": [
        {
          "output_type": "stream",
          "name": "stdout",
          "text": [
            "x1=0, x2=0, y=  [0]\n",
            "x1=0, x2=1, y=  [1]\n",
            "x1=1, x2=0, y=  [1]\n",
            "x1=1, x2=1, y=  [0]\n"
          ]
        }
      ]
    },
    {
      "cell_type": "code",
      "source": [
        "import time\n",
        "start_time = time.time()\n",
        "#--  Apprentissage\n",
        "import numpy as np\n",
        "import matplotlib.pyplot as plt\n",
        "from sklearn import svm, datasets\n",
        "from sklearn.model_selection import train_test_split\n",
        "from sklearn.datasets import make_classification\n",
        "from sklearn.metrics import accuracy_score\n",
        "\n",
        "#from sklearn.model_selection import HalvingGridSearchCV\n",
        "# Chargement des données\n",
        "iris = datasets.load_iris()\n",
        "X = iris.data\n",
        "y = iris.target\n",
        "trainX, testX, trainY, testY = train_test_split(X, y, test_size = 0.2)\n",
        "end_time = time.time()\n",
        "print('Dataset Sizes : ', X.shape, y.shape)\n",
        "print('temps ecoule = '+str(end_time - start_time))"
      ],
      "metadata": {
        "colab": {
          "base_uri": "https://localhost:8080/"
        },
        "id": "3PCvu_u2XtRD",
        "outputId": "60cc12e7-2540-4b6c-8ef9-e7f9e414f517"
      },
      "execution_count": null,
      "outputs": [
        {
          "output_type": "stream",
          "name": "stdout",
          "text": [
            "Dataset Sizes :  (150, 4) (150,)\n",
            "temps ecoule = 0.005806446075439453\n"
          ]
        }
      ]
    },
    {
      "cell_type": "code",
      "source": [
        "print('**************(10)*********************************************')\n",
        "start_time = time.time()\n",
        "clf = MLPClassifier(hidden_layer_sizes=(10), random_state=0,)\n",
        "clf.fit(X, y)\n",
        "y_pred = clf.predict(testX)\n",
        "print('Accuracy: {:.2f}'.format(accuracy_score(testY, y_pred)))\n",
        "end_time = time.time()\n",
        "print('temps ecoule = '+str(end_time - start_time))\n",
        "print('**************(10, 100)*****************************************')\n",
        "start_time = time.time()\n",
        "clf = MLPClassifier(hidden_layer_sizes=(10, 100), random_state=0,)\n",
        "clf.fit(X, y)\n",
        "y_pred = clf.predict(testX)\n",
        "print('Accuracy: {:.2f}'.format(accuracy_score(testY, y_pred)))\n",
        "end_time = time.time()\n",
        "print('temps ecoule = '+str(end_time - start_time))\n",
        "print('**************(10, 100, 150)************************************')\n",
        "start_time = time.time()\n",
        "clf = MLPClassifier(hidden_layer_sizes=(10, 100, 150), random_state=0,)\n",
        "clf.fit(X, y)\n",
        "y_pred = clf.predict(testX)\n",
        "print('Accuracy: {:.2f}'.format(accuracy_score(testY, y_pred)))\n",
        "end_time = time.time()\n",
        "print('temps ecoule = '+str(end_time - start_time))\n",
        "print('**************(10, 100, 150, 200)*******************************')\n",
        "start_time = time.time()\n",
        "clf = MLPClassifier(hidden_layer_sizes=(10, 100, 200), random_state=0,)\n",
        "clf.fit(X, y)\n",
        "y_pred = clf.predict(testX)\n",
        "print('Accuracy: {:.2f}'.format(accuracy_score(testY, y_pred)))\n",
        "end_time = time.time()\n",
        "print('temps ecoule = '+str(end_time - start_time))\n",
        "print('**************(10, 100, 150, 200, 300)*************************')\n",
        "start_time = time.time()\n",
        "clf = MLPClassifier(hidden_layer_sizes=(10, 100, 150, 200, 300), random_state=0,)\n",
        "clf.fit(X, y)\n",
        "y_pred = clf.predict(testX)\n",
        "print('Accuracy: {:.2f}'.format(accuracy_score(testY, y_pred)))\n",
        "end_time = time.time()\n",
        "print('temps ecoule = '+str(end_time - start_time))"
      ],
      "metadata": {
        "id": "UJMFNoV1YDb-"
      },
      "execution_count": null,
      "outputs": []
    },
    {
      "cell_type": "code",
      "source": [
        "print(\"Loss : \", clf.loss_)"
      ],
      "metadata": {
        "colab": {
          "base_uri": "https://localhost:8080/"
        },
        "id": "PVdFCzwVuylW",
        "outputId": "b920193e-0125-4023-ee8a-0cfcdd54da39"
      },
      "execution_count": null,
      "outputs": [
        {
          "output_type": "stream",
          "name": "stdout",
          "text": [
            "Loss :  0.0008444976128401261\n"
          ]
        }
      ]
    },
    {
      "cell_type": "code",
      "source": [
        "from sklearn.preprocessing import MinMaxScaler\n",
        "scaler = MinMaxScaler()\n",
        "scaler.fit(trainX)\n",
        "trainX_scaled = scaler.transform(trainX)\n",
        "testX_scaled = scaler.transform(testX)"
      ],
      "metadata": {
        "id": "9yZXfCh2bj43"
      },
      "execution_count": null,
      "outputs": []
    },
    {
      "cell_type": "code",
      "source": [
        "print('**************(10)*********************************************')\n",
        "start_time = time.time()\n",
        "clf = MLPClassifier(hidden_layer_sizes=(10), random_state=0,)\n",
        "clf.fit(trainX_scaled, trainY)\n",
        "y_pred = clf.predict(testX_scaled)\n",
        "print('Accuracy: {:.2f}'.format(accuracy_score(testY, y_pred)))\n",
        "end_time = time.time()\n",
        "print('temps ecoule = '+str(end_time - start_time))\n",
        "print('**************(10, 100)*****************************************')\n",
        "start_time = time.time()\n",
        "clf = MLPClassifier(hidden_layer_sizes=(10, 100), random_state=0,)\n",
        "clf.fit(trainX_scaled, trainY)\n",
        "y_pred = clf.predict(testX_scaled)\n",
        "print('Accuracy: {:.2f}'.format(accuracy_score(testY, y_pred)))\n",
        "end_time = time.time()\n",
        "print('temps ecoule = '+str(end_time - start_time))\n",
        "print('**************(10, 100, 150)************************************')\n",
        "start_time = time.time()\n",
        "clf = MLPClassifier(hidden_layer_sizes=(10, 100, 150), random_state=0,)\n",
        "clf.fit(trainX_scaled, trainY)\n",
        "y_pred = clf.predict(testX_scaled)\n",
        "print('Accuracy: {:.2f}'.format(accuracy_score(testY, y_pred)))\n",
        "end_time = time.time()\n",
        "print('temps ecoule = '+str(end_time - start_time))\n",
        "print('**************(10, 100, 150, 200)*******************************')\n",
        "start_time = time.time()\n",
        "clf = MLPClassifier(hidden_layer_sizes=(10, 100, 200), random_state=0,)\n",
        "clf.fit(trainX_scaled, trainY)\n",
        "y_pred = clf.predict(testX_scaled)\n",
        "print('Accuracy: {:.2f}'.format(accuracy_score(testY, y_pred)))\n",
        "end_time = time.time()\n",
        "print('temps ecoule = '+str(end_time - start_time))\n",
        "print('**************(10, 100, 150, 200, 300)*************************')\n",
        "start_time = time.time()\n",
        "clf = MLPClassifier(hidden_layer_sizes=(10, 100, 150, 200, 300), random_state=0,)\n",
        "clf.fit(trainX_scaled, trainY)\n",
        "y_pred = clf.predict(testX_scaled)\n",
        "print('Accuracy: {:.2f}'.format(accuracy_score(testY, y_pred)))\n",
        "end_time = time.time()\n",
        "print('temps ecoule = '+str(end_time - start_time))"
      ],
      "metadata": {
        "id": "gcHyTyy6bnXR"
      },
      "execution_count": null,
      "outputs": []
    },
    {
      "cell_type": "code",
      "source": [
        "start_time = time.time()\n",
        "clf = svm.SVC(kernel='poly', C= 100)\n",
        "#clf = MLPClassifier(hidden_layer_sizes=(100, 200, 300), random_state=0,)\n",
        "clf.fit(X, y)\n",
        "y_pred = clf.predict(testX)\n",
        "print('Accuracy: {:.2f}'.format(accuracy_score(testY, y_pred)))\n",
        "end_time = time.time()\n",
        "print('temps ecoule = '+str(end_time - start_time))"
      ],
      "metadata": {
        "colab": {
          "base_uri": "https://localhost:8080/"
        },
        "id": "jYtA328boodc",
        "outputId": "923f7a18-40d5-428b-c3e9-f973c63d36e6"
      },
      "execution_count": null,
      "outputs": [
        {
          "output_type": "stream",
          "name": "stdout",
          "text": [
            "Accuracy: 0.97\n",
            "temps ecoule = 0.024467945098876953\n"
          ]
        }
      ]
    },
    {
      "cell_type": "code",
      "source": [
        "from scipy.optimize import lbfgsb\n",
        "from scipy.optimize import OptimizeResult\n",
        "\n",
        "c=('adam', 'sgd', 'lbfgs')\n",
        "for i in c: \n",
        "  print('**************(10)*********************************************')\n",
        "  start_time = time.time()\n",
        "  clf = MLPClassifier(solver= i, hidden_layer_sizes=(10), random_state=0)\n",
        "  clf.fit(trainX_scaled, trainY)\n",
        "  y_pred = clf.predict(testX_scaled)\n",
        "  print('Accuracy: {:.2f}'.format(accuracy_score(testY, y_pred)),i)\n",
        "  end_time = time.time()\n",
        "  print('temps ecoule = '+str(end_time - start_time))\n",
        "  print('**************(10, 100)*****************************************')\n",
        "  start_time = time.time()\n",
        "  clf = MLPClassifier(solver= i,hidden_layer_sizes=(10, 100), random_state=0)\n",
        "  clf.fit(trainX_scaled, trainY)\n",
        "  y_pred = clf.predict(testX_scaled)\n",
        "  print('Accuracy: {:.2f}'.format(accuracy_score(testY, y_pred)),i)\n",
        "  end_time = time.time()\n",
        "  print('temps ecoule = '+str(end_time - start_time))\n",
        "  print('**************(10, 100, 150)************************************')\n",
        "  start_time = time.time()\n",
        "  clf = MLPClassifier(solver= i,hidden_layer_sizes=(10, 100, 150), random_state=0)\n",
        "  clf.fit(trainX_scaled, trainY)\n",
        "  y_pred = clf.predict(testX_scaled)\n",
        "  print('Accuracy: {:.2f}'.format(accuracy_score(testY, y_pred)),i)\n",
        "  end_time = time.time()\n",
        "  print('temps ecoule = '+str(end_time - start_time))\n",
        "  print('**************(10, 100, 150, 200)*******************************')\n",
        "  start_time = time.time()\n",
        "  clf = MLPClassifier(solver= i,hidden_layer_sizes=(10, 100, 200), random_state=0,)\n",
        "  clf.fit(trainX_scaled, trainY)\n",
        "  y_pred = clf.predict(testX_scaled)\n",
        "  print('Accuracy: {:.2f}'.format(accuracy_score(testY, y_pred)),i)\n",
        "  end_time = time.time()\n",
        "  print('temps ecoule = '+str(end_time - start_time))\n",
        "  print('**************(10, 100, 150, 200, 300)*************************')\n",
        "  start_time = time.time()\n",
        "  clf = MLPClassifier(solver= i,hidden_layer_sizes=(10, 100, 150, 200, 300), random_state=0,)\n",
        "  clf.fit(trainX_scaled, trainY)\n",
        "  y_pred = clf.predict(testX_scaled)\n",
        "  print('Accuracy: {:.2f}'.format(accuracy_score(testY, y_pred)),i)\n",
        "  end_time = time.time()\n",
        "  print('temps ecoule = '+str(end_time - start_time))\n"
      ],
      "metadata": {
        "id": "k7701Bsepiua"
      },
      "execution_count": null,
      "outputs": []
    },
    {
      "cell_type": "code",
      "source": [
        "from keras.datasets import mnist \n",
        "from sklearn.multiclass import OneVsRestClassifier \n",
        "from sklearn.svm import SVC \n",
        "import numpy as np \n",
        "from sklearn.model_selection import GridSearchCV \n",
        "from sklearn.neural_network import MLPClassifier \n",
        "import time \n",
        "start_time = time.time()\n",
        "# chargement des données MNIST\n",
        "data = mnist.load_data()\n",
        "(X_train, y_train), (X_test, y_test) = data \n",
        "\n",
        "# chargement des données 3D -> 2D\n",
        "X_train_flat = X_train.reshape(60000, -1)\n",
        "X_test_flat = X_test.reshape(10000, -1)\n",
        "#Application un GridSearchCV pour trouver la meilleurs configuration \n",
        "param_grid = {\n",
        "    'hidden_layer_sizes': [2, 3, 4, 5],\n",
        "    'activation': ['logistic', 'relu'],\n",
        "    'solver': ['sgd', 'adam', 'lbfgs'],\n",
        "    'learning_rate': ['constant','adaptive'],\n",
        "    'alpha': [0.0001,0.001],  \n",
        "    }\n",
        "clf = GridSearchCV(MLPClassifier(), param_grid,  cv=5, n_jobs= 4, verbose=1)\n",
        "clf.fit(X_train_flat, y_train)\n",
        "y_pred= clf.predict(X_test_flat)\n",
        "print(\"le meilleur score: \"+ str(clf.best_estimator_.score(X_test_flat, y_test)))\n",
        "print(\"la meilleurs configuration est:\"+str(clf.best_params))"
      ],
      "metadata": {
        "id": "AGGAPNEFpsSz",
        "colab": {
          "base_uri": "https://localhost:8080/",
          "height": 453
        },
        "outputId": "241d46ae-d544-4bd4-8de5-6219d2b28b66"
      },
      "execution_count": 8,
      "outputs": [
        {
          "output_type": "stream",
          "name": "stdout",
          "text": [
            "Fitting 5 folds for each of 96 candidates, totalling 480 fits\n"
          ]
        },
        {
          "output_type": "stream",
          "name": "stderr",
          "text": [
            "/usr/local/lib/python3.7/dist-packages/joblib/externals/loky/process_executor.py:703: UserWarning: A worker stopped while some jobs were given to the executor. This can be caused by a too short worker timeout or by a memory leak.\n",
            "  \"timeout or by a memory leak.\", UserWarning\n"
          ]
        },
        {
          "output_type": "error",
          "ename": "KeyboardInterrupt",
          "evalue": "ignored",
          "traceback": [
            "\u001b[0;31m---------------------------------------------------------------------------\u001b[0m",
            "\u001b[0;31mKeyboardInterrupt\u001b[0m                         Traceback (most recent call last)",
            "\u001b[0;32m<ipython-input-8-a49e8810d8ad>\u001b[0m in \u001b[0;36m<module>\u001b[0;34m\u001b[0m\n\u001b[1;32m     23\u001b[0m     }\n\u001b[1;32m     24\u001b[0m \u001b[0mclf\u001b[0m \u001b[0;34m=\u001b[0m \u001b[0mGridSearchCV\u001b[0m\u001b[0;34m(\u001b[0m\u001b[0mMLPClassifier\u001b[0m\u001b[0;34m(\u001b[0m\u001b[0;34m)\u001b[0m\u001b[0;34m,\u001b[0m \u001b[0mparam_grid\u001b[0m\u001b[0;34m,\u001b[0m  \u001b[0mcv\u001b[0m\u001b[0;34m=\u001b[0m\u001b[0;36m5\u001b[0m\u001b[0;34m,\u001b[0m \u001b[0mn_jobs\u001b[0m\u001b[0;34m=\u001b[0m \u001b[0;36m4\u001b[0m\u001b[0;34m,\u001b[0m \u001b[0mverbose\u001b[0m\u001b[0;34m=\u001b[0m\u001b[0;36m1\u001b[0m\u001b[0;34m)\u001b[0m\u001b[0;34m\u001b[0m\u001b[0;34m\u001b[0m\u001b[0m\n\u001b[0;32m---> 25\u001b[0;31m \u001b[0mclf\u001b[0m\u001b[0;34m.\u001b[0m\u001b[0mfit\u001b[0m\u001b[0;34m(\u001b[0m\u001b[0mX_train_flat\u001b[0m\u001b[0;34m,\u001b[0m \u001b[0my_train\u001b[0m\u001b[0;34m)\u001b[0m\u001b[0;34m\u001b[0m\u001b[0;34m\u001b[0m\u001b[0m\n\u001b[0m\u001b[1;32m     26\u001b[0m \u001b[0my_pred\u001b[0m\u001b[0;34m=\u001b[0m \u001b[0mclf\u001b[0m\u001b[0;34m.\u001b[0m\u001b[0mpredict\u001b[0m\u001b[0;34m(\u001b[0m\u001b[0mX_test_flat\u001b[0m\u001b[0;34m)\u001b[0m\u001b[0;34m\u001b[0m\u001b[0;34m\u001b[0m\u001b[0m\n\u001b[1;32m     27\u001b[0m \u001b[0mprint\u001b[0m\u001b[0;34m(\u001b[0m\u001b[0;34m\"le meilleur score: \"\u001b[0m\u001b[0;34m+\u001b[0m \u001b[0mstr\u001b[0m\u001b[0;34m(\u001b[0m\u001b[0mclf\u001b[0m\u001b[0;34m.\u001b[0m\u001b[0mbest_estimator_\u001b[0m\u001b[0;34m.\u001b[0m\u001b[0mscore\u001b[0m\u001b[0;34m(\u001b[0m\u001b[0mX_test_flat\u001b[0m\u001b[0;34m,\u001b[0m \u001b[0my_test\u001b[0m\u001b[0;34m)\u001b[0m\u001b[0;34m)\u001b[0m\u001b[0;34m)\u001b[0m\u001b[0;34m\u001b[0m\u001b[0;34m\u001b[0m\u001b[0m\n",
            "\u001b[0;32m/usr/local/lib/python3.7/dist-packages/sklearn/model_selection/_search.py\u001b[0m in \u001b[0;36mfit\u001b[0;34m(self, X, y, groups, **fit_params)\u001b[0m\n\u001b[1;32m    889\u001b[0m                 \u001b[0;32mreturn\u001b[0m \u001b[0mresults\u001b[0m\u001b[0;34m\u001b[0m\u001b[0;34m\u001b[0m\u001b[0m\n\u001b[1;32m    890\u001b[0m \u001b[0;34m\u001b[0m\u001b[0m\n\u001b[0;32m--> 891\u001b[0;31m             \u001b[0mself\u001b[0m\u001b[0;34m.\u001b[0m\u001b[0m_run_search\u001b[0m\u001b[0;34m(\u001b[0m\u001b[0mevaluate_candidates\u001b[0m\u001b[0;34m)\u001b[0m\u001b[0;34m\u001b[0m\u001b[0;34m\u001b[0m\u001b[0m\n\u001b[0m\u001b[1;32m    892\u001b[0m \u001b[0;34m\u001b[0m\u001b[0m\n\u001b[1;32m    893\u001b[0m             \u001b[0;31m# multimetric is determined here because in the case of a callable\u001b[0m\u001b[0;34m\u001b[0m\u001b[0;34m\u001b[0m\u001b[0;34m\u001b[0m\u001b[0m\n",
            "\u001b[0;32m/usr/local/lib/python3.7/dist-packages/sklearn/model_selection/_search.py\u001b[0m in \u001b[0;36m_run_search\u001b[0;34m(self, evaluate_candidates)\u001b[0m\n\u001b[1;32m   1390\u001b[0m     \u001b[0;32mdef\u001b[0m \u001b[0m_run_search\u001b[0m\u001b[0;34m(\u001b[0m\u001b[0mself\u001b[0m\u001b[0;34m,\u001b[0m \u001b[0mevaluate_candidates\u001b[0m\u001b[0;34m)\u001b[0m\u001b[0;34m:\u001b[0m\u001b[0;34m\u001b[0m\u001b[0;34m\u001b[0m\u001b[0m\n\u001b[1;32m   1391\u001b[0m         \u001b[0;34m\"\"\"Search all candidates in param_grid\"\"\"\u001b[0m\u001b[0;34m\u001b[0m\u001b[0;34m\u001b[0m\u001b[0m\n\u001b[0;32m-> 1392\u001b[0;31m         \u001b[0mevaluate_candidates\u001b[0m\u001b[0;34m(\u001b[0m\u001b[0mParameterGrid\u001b[0m\u001b[0;34m(\u001b[0m\u001b[0mself\u001b[0m\u001b[0;34m.\u001b[0m\u001b[0mparam_grid\u001b[0m\u001b[0;34m)\u001b[0m\u001b[0;34m)\u001b[0m\u001b[0;34m\u001b[0m\u001b[0;34m\u001b[0m\u001b[0m\n\u001b[0m\u001b[1;32m   1393\u001b[0m \u001b[0;34m\u001b[0m\u001b[0m\n\u001b[1;32m   1394\u001b[0m \u001b[0;34m\u001b[0m\u001b[0m\n",
            "\u001b[0;32m/usr/local/lib/python3.7/dist-packages/sklearn/model_selection/_search.py\u001b[0m in \u001b[0;36mevaluate_candidates\u001b[0;34m(candidate_params, cv, more_results)\u001b[0m\n\u001b[1;32m    849\u001b[0m                     )\n\u001b[1;32m    850\u001b[0m                     for (cand_idx, parameters), (split_idx, (train, test)) in product(\n\u001b[0;32m--> 851\u001b[0;31m                         \u001b[0menumerate\u001b[0m\u001b[0;34m(\u001b[0m\u001b[0mcandidate_params\u001b[0m\u001b[0;34m)\u001b[0m\u001b[0;34m,\u001b[0m \u001b[0menumerate\u001b[0m\u001b[0;34m(\u001b[0m\u001b[0mcv\u001b[0m\u001b[0;34m.\u001b[0m\u001b[0msplit\u001b[0m\u001b[0;34m(\u001b[0m\u001b[0mX\u001b[0m\u001b[0;34m,\u001b[0m \u001b[0my\u001b[0m\u001b[0;34m,\u001b[0m \u001b[0mgroups\u001b[0m\u001b[0;34m)\u001b[0m\u001b[0;34m)\u001b[0m\u001b[0;34m\u001b[0m\u001b[0;34m\u001b[0m\u001b[0m\n\u001b[0m\u001b[1;32m    852\u001b[0m                     )\n\u001b[1;32m    853\u001b[0m                 )\n",
            "\u001b[0;32m/usr/local/lib/python3.7/dist-packages/joblib/parallel.py\u001b[0m in \u001b[0;36m__call__\u001b[0;34m(self, iterable)\u001b[0m\n\u001b[1;32m   1096\u001b[0m \u001b[0;34m\u001b[0m\u001b[0m\n\u001b[1;32m   1097\u001b[0m             \u001b[0;32mwith\u001b[0m \u001b[0mself\u001b[0m\u001b[0;34m.\u001b[0m\u001b[0m_backend\u001b[0m\u001b[0;34m.\u001b[0m\u001b[0mretrieval_context\u001b[0m\u001b[0;34m(\u001b[0m\u001b[0;34m)\u001b[0m\u001b[0;34m:\u001b[0m\u001b[0;34m\u001b[0m\u001b[0;34m\u001b[0m\u001b[0m\n\u001b[0;32m-> 1098\u001b[0;31m                 \u001b[0mself\u001b[0m\u001b[0;34m.\u001b[0m\u001b[0mretrieve\u001b[0m\u001b[0;34m(\u001b[0m\u001b[0;34m)\u001b[0m\u001b[0;34m\u001b[0m\u001b[0;34m\u001b[0m\u001b[0m\n\u001b[0m\u001b[1;32m   1099\u001b[0m             \u001b[0;31m# Make sure that we get a last message telling us we are done\u001b[0m\u001b[0;34m\u001b[0m\u001b[0;34m\u001b[0m\u001b[0;34m\u001b[0m\u001b[0m\n\u001b[1;32m   1100\u001b[0m             \u001b[0melapsed_time\u001b[0m \u001b[0;34m=\u001b[0m \u001b[0mtime\u001b[0m\u001b[0;34m.\u001b[0m\u001b[0mtime\u001b[0m\u001b[0;34m(\u001b[0m\u001b[0;34m)\u001b[0m \u001b[0;34m-\u001b[0m \u001b[0mself\u001b[0m\u001b[0;34m.\u001b[0m\u001b[0m_start_time\u001b[0m\u001b[0;34m\u001b[0m\u001b[0;34m\u001b[0m\u001b[0m\n",
            "\u001b[0;32m/usr/local/lib/python3.7/dist-packages/joblib/parallel.py\u001b[0m in \u001b[0;36mretrieve\u001b[0;34m(self)\u001b[0m\n\u001b[1;32m    973\u001b[0m             \u001b[0;32mtry\u001b[0m\u001b[0;34m:\u001b[0m\u001b[0;34m\u001b[0m\u001b[0;34m\u001b[0m\u001b[0m\n\u001b[1;32m    974\u001b[0m                 \u001b[0;32mif\u001b[0m \u001b[0mgetattr\u001b[0m\u001b[0;34m(\u001b[0m\u001b[0mself\u001b[0m\u001b[0;34m.\u001b[0m\u001b[0m_backend\u001b[0m\u001b[0;34m,\u001b[0m \u001b[0;34m'supports_timeout'\u001b[0m\u001b[0;34m,\u001b[0m \u001b[0;32mFalse\u001b[0m\u001b[0;34m)\u001b[0m\u001b[0;34m:\u001b[0m\u001b[0;34m\u001b[0m\u001b[0;34m\u001b[0m\u001b[0m\n\u001b[0;32m--> 975\u001b[0;31m                     \u001b[0mself\u001b[0m\u001b[0;34m.\u001b[0m\u001b[0m_output\u001b[0m\u001b[0;34m.\u001b[0m\u001b[0mextend\u001b[0m\u001b[0;34m(\u001b[0m\u001b[0mjob\u001b[0m\u001b[0;34m.\u001b[0m\u001b[0mget\u001b[0m\u001b[0;34m(\u001b[0m\u001b[0mtimeout\u001b[0m\u001b[0;34m=\u001b[0m\u001b[0mself\u001b[0m\u001b[0;34m.\u001b[0m\u001b[0mtimeout\u001b[0m\u001b[0;34m)\u001b[0m\u001b[0;34m)\u001b[0m\u001b[0;34m\u001b[0m\u001b[0;34m\u001b[0m\u001b[0m\n\u001b[0m\u001b[1;32m    976\u001b[0m                 \u001b[0;32melse\u001b[0m\u001b[0;34m:\u001b[0m\u001b[0;34m\u001b[0m\u001b[0;34m\u001b[0m\u001b[0m\n\u001b[1;32m    977\u001b[0m                     \u001b[0mself\u001b[0m\u001b[0;34m.\u001b[0m\u001b[0m_output\u001b[0m\u001b[0;34m.\u001b[0m\u001b[0mextend\u001b[0m\u001b[0;34m(\u001b[0m\u001b[0mjob\u001b[0m\u001b[0;34m.\u001b[0m\u001b[0mget\u001b[0m\u001b[0;34m(\u001b[0m\u001b[0;34m)\u001b[0m\u001b[0;34m)\u001b[0m\u001b[0;34m\u001b[0m\u001b[0;34m\u001b[0m\u001b[0m\n",
            "\u001b[0;32m/usr/local/lib/python3.7/dist-packages/joblib/_parallel_backends.py\u001b[0m in \u001b[0;36mwrap_future_result\u001b[0;34m(future, timeout)\u001b[0m\n\u001b[1;32m    565\u001b[0m         AsyncResults.get from multiprocessing.\"\"\"\n\u001b[1;32m    566\u001b[0m         \u001b[0;32mtry\u001b[0m\u001b[0;34m:\u001b[0m\u001b[0;34m\u001b[0m\u001b[0;34m\u001b[0m\u001b[0m\n\u001b[0;32m--> 567\u001b[0;31m             \u001b[0;32mreturn\u001b[0m \u001b[0mfuture\u001b[0m\u001b[0;34m.\u001b[0m\u001b[0mresult\u001b[0m\u001b[0;34m(\u001b[0m\u001b[0mtimeout\u001b[0m\u001b[0;34m=\u001b[0m\u001b[0mtimeout\u001b[0m\u001b[0;34m)\u001b[0m\u001b[0;34m\u001b[0m\u001b[0;34m\u001b[0m\u001b[0m\n\u001b[0m\u001b[1;32m    568\u001b[0m         \u001b[0;32mexcept\u001b[0m \u001b[0mCfTimeoutError\u001b[0m \u001b[0;32mas\u001b[0m \u001b[0me\u001b[0m\u001b[0;34m:\u001b[0m\u001b[0;34m\u001b[0m\u001b[0;34m\u001b[0m\u001b[0m\n\u001b[1;32m    569\u001b[0m             \u001b[0;32mraise\u001b[0m \u001b[0mTimeoutError\u001b[0m \u001b[0;32mfrom\u001b[0m \u001b[0me\u001b[0m\u001b[0;34m\u001b[0m\u001b[0;34m\u001b[0m\u001b[0m\n",
            "\u001b[0;32m/usr/lib/python3.7/concurrent/futures/_base.py\u001b[0m in \u001b[0;36mresult\u001b[0;34m(self, timeout)\u001b[0m\n\u001b[1;32m    428\u001b[0m                 \u001b[0;32mreturn\u001b[0m \u001b[0mself\u001b[0m\u001b[0;34m.\u001b[0m\u001b[0m__get_result\u001b[0m\u001b[0;34m(\u001b[0m\u001b[0;34m)\u001b[0m\u001b[0;34m\u001b[0m\u001b[0;34m\u001b[0m\u001b[0m\n\u001b[1;32m    429\u001b[0m \u001b[0;34m\u001b[0m\u001b[0m\n\u001b[0;32m--> 430\u001b[0;31m             \u001b[0mself\u001b[0m\u001b[0;34m.\u001b[0m\u001b[0m_condition\u001b[0m\u001b[0;34m.\u001b[0m\u001b[0mwait\u001b[0m\u001b[0;34m(\u001b[0m\u001b[0mtimeout\u001b[0m\u001b[0;34m)\u001b[0m\u001b[0;34m\u001b[0m\u001b[0;34m\u001b[0m\u001b[0m\n\u001b[0m\u001b[1;32m    431\u001b[0m \u001b[0;34m\u001b[0m\u001b[0m\n\u001b[1;32m    432\u001b[0m             \u001b[0;32mif\u001b[0m \u001b[0mself\u001b[0m\u001b[0;34m.\u001b[0m\u001b[0m_state\u001b[0m \u001b[0;32min\u001b[0m \u001b[0;34m[\u001b[0m\u001b[0mCANCELLED\u001b[0m\u001b[0;34m,\u001b[0m \u001b[0mCANCELLED_AND_NOTIFIED\u001b[0m\u001b[0;34m]\u001b[0m\u001b[0;34m:\u001b[0m\u001b[0;34m\u001b[0m\u001b[0;34m\u001b[0m\u001b[0m\n",
            "\u001b[0;32m/usr/lib/python3.7/threading.py\u001b[0m in \u001b[0;36mwait\u001b[0;34m(self, timeout)\u001b[0m\n\u001b[1;32m    294\u001b[0m         \u001b[0;32mtry\u001b[0m\u001b[0;34m:\u001b[0m    \u001b[0;31m# restore state no matter what (e.g., KeyboardInterrupt)\u001b[0m\u001b[0;34m\u001b[0m\u001b[0;34m\u001b[0m\u001b[0m\n\u001b[1;32m    295\u001b[0m             \u001b[0;32mif\u001b[0m \u001b[0mtimeout\u001b[0m \u001b[0;32mis\u001b[0m \u001b[0;32mNone\u001b[0m\u001b[0;34m:\u001b[0m\u001b[0;34m\u001b[0m\u001b[0;34m\u001b[0m\u001b[0m\n\u001b[0;32m--> 296\u001b[0;31m                 \u001b[0mwaiter\u001b[0m\u001b[0;34m.\u001b[0m\u001b[0macquire\u001b[0m\u001b[0;34m(\u001b[0m\u001b[0;34m)\u001b[0m\u001b[0;34m\u001b[0m\u001b[0;34m\u001b[0m\u001b[0m\n\u001b[0m\u001b[1;32m    297\u001b[0m                 \u001b[0mgotit\u001b[0m \u001b[0;34m=\u001b[0m \u001b[0;32mTrue\u001b[0m\u001b[0;34m\u001b[0m\u001b[0;34m\u001b[0m\u001b[0m\n\u001b[1;32m    298\u001b[0m             \u001b[0;32melse\u001b[0m\u001b[0;34m:\u001b[0m\u001b[0;34m\u001b[0m\u001b[0;34m\u001b[0m\u001b[0m\n",
            "\u001b[0;31mKeyboardInterrupt\u001b[0m: "
          ]
        }
      ]
    },
    {
      "cell_type": "code",
      "source": [
        "from keras.datasets import mnist \n",
        "from sklearn.multiclass import OneVsRestClassifier \n",
        "from sklearn.svm import SVC \n",
        "import numpy as np \n",
        "from sklearn.model_selection import GridSearchCV \n",
        "from sklearn.neural_network import MLPClassifier \n",
        "import time \n",
        "start_time = time.time()\n",
        "# chargement des données \n",
        "data = mnist.load_data()\n",
        "(X_train, y_train), (X_test, y_test) = data \n",
        "\n",
        "# chargement des données 3D -> 2D\n",
        "X_train_flat = X_train.reshape(60000, -1)\n",
        "X_test_flat = X_test.reshape(10000, -1)\n",
        "#appliquons un GridSearchCV pour trouver la meilleur configuration possible \n",
        "\n",
        "start_time=time.time()\n",
        "clf= MLPClassifier(hidden_layer_sizes=(50,),max_iter=10, alpha=1e-4, solver='sgd',verbose=10)\n",
        "clf.fit(X_train_flat, y_train)\n",
        "end_time = time.time()\n",
        "print(\"Test set score: {:.2f}\".format(clf.score(X_test_flat, y_test)))\n",
        "print('temps ecoule = {:.2f} '.format(end_time - start_time))"
      ],
      "metadata": {
        "colab": {
          "base_uri": "https://localhost:8080/"
        },
        "id": "D0bu8n0GeO9v",
        "outputId": "8db0e4a7-c3ef-4c3c-b0d7-397a0fa7ca78"
      },
      "execution_count": 11,
      "outputs": [
        {
          "output_type": "stream",
          "name": "stdout",
          "text": [
            "Iteration 1, loss = 2.54139698\n",
            "Iteration 2, loss = 2.02865496\n",
            "Iteration 3, loss = 1.84548830\n",
            "Iteration 4, loss = 1.75407252\n",
            "Iteration 5, loss = 1.68551470\n",
            "Iteration 6, loss = 1.60156621\n",
            "Iteration 7, loss = 1.49499561\n",
            "Iteration 8, loss = 1.42350886\n",
            "Iteration 9, loss = 1.36442088\n",
            "Iteration 10, loss = 1.32365487\n",
            "Test set score: 0.54\n",
            "temps ecoule = 14.24 \n"
          ]
        },
        {
          "output_type": "stream",
          "name": "stderr",
          "text": [
            "/usr/local/lib/python3.7/dist-packages/sklearn/neural_network/_multilayer_perceptron.py:696: ConvergenceWarning: Stochastic Optimizer: Maximum iterations (10) reached and the optimization hasn't converged yet.\n",
            "  ConvergenceWarning,\n"
          ]
        }
      ]
    },
    {
      "cell_type": "code",
      "source": [],
      "metadata": {
        "id": "7kCRDe37mdwW"
      },
      "execution_count": null,
      "outputs": []
    }
  ]
}